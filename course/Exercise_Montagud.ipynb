{
 "cells": [
  {
   "cell_type": "markdown",
   "id": "f24fd591-7d50-440e-bae0-85b3ce29cde3",
   "metadata": {},
   "source": [
    "# MaBoSS Course"
   ]
  },
  {
   "cell_type": "markdown",
   "id": "13d087d4-f710-4636-8c91-536eeb96e2bc",
   "metadata": {},
   "source": [
    "First we import MaBoSS"
   ]
  },
  {
   "cell_type": "code",
   "execution_count": 1,
   "id": "a454b683-7242-4edb-9782-89d60dc5a6af",
   "metadata": {},
   "outputs": [
    {
     "data": {
      "text/markdown": [
       "This notebook has been executed using the docker image `colomoto/colomoto-docker:2022-05-01`"
      ],
      "text/plain": [
       "<IPython.core.display.Markdown object>"
      ]
     },
     "metadata": {},
     "output_type": "display_data"
    },
    {
     "data": {
      "text/html": [
       "<script type=\"text/javascript\" id=\"colomoto-setup-1100485\" class=\"to-be-removed\">\n",
       "        if (typeof Jupyter != 'undefined') {\n",
       "            \n",
       "function detect_import(cell, module) {\n",
       "    var code = cell.get_text();\n",
       "    code = code.replace(/\\\\\\n/g, \"\");\n",
       "    var lines = code.split(\"\\n\");\n",
       "    var r_simple = new RegExp(\"^(\"+module+\")$\");\n",
       "    var r_alias = new RegExp(\"^\"+module+\"\\\\s+as\\\\s+(\\\\w+)$\");\n",
       "    for (var i = 0; i < lines.length; ++i) {\n",
       "        if (/^import\\s/.test(lines[i])) {\n",
       "            code = lines[i].substr(7);\n",
       "            var parts = code.split(\",\")\n",
       "            for (var j = 0; j < parts.length; ++j) {\n",
       "                code = parts[j].trim();\n",
       "                var m = code.match(r_simple);\n",
       "                if (!m) {\n",
       "                    m = code.match(r_alias);\n",
       "                }\n",
       "                if (m) {\n",
       "                    return m[1];\n",
       "                }\n",
       "            }\n",
       "        }\n",
       "    }\n",
       "    return module;\n",
       "}\n",
       "\n",
       "function colomoto_replace_call(cell, orig, dest, args, comment=false) {\n",
       "    var call_regexp = new RegExp(\"\\\\.\"+orig.replace(\".\",\"\\\\.\")+\"\\\\(\");\n",
       "    var call_replacer = new RegExp(\"\\\\.\"+orig.replace(\".\",\"\\\\.\")\n",
       "                    + \"\\\\(\\\\s*([^\\\\)]*)?\\\\)\");\n",
       "    var code = cell.get_text();\n",
       "    var lines = code.split(\"\\n\");\n",
       "    if (args) {\n",
       "        var strargs = \", \"+args.join(\", \");\n",
       "    } else {\n",
       "        var strargs = \"\";\n",
       "    }\n",
       "    for (var i = 0; i < lines.length; ++i) {\n",
       "        if (call_regexp.test(lines[i])) {\n",
       "            var code = \"\"\n",
       "            if (comment) {\n",
       "                code += \"#\"+lines[i]+\"\\n\";\n",
       "            }\n",
       "            code += lines[i].replace(call_replacer, \".\"+dest+\"($1\"+strargs+\")\")\n",
       "            lines[i] = code;\n",
       "        }\n",
       "    }\n",
       "    cell.set_text(code)\n",
       "}\n",
       "\n",
       "function colomoto_upload(Jupyter, ssid, input, py_callback_name, orig, dest) {\n",
       "\n",
       "    function callback(out_data) {\n",
       "        var cell_element = $(\"#\"+ssid).parents('.cell');\n",
       "        var cell_idx = Jupyter.notebook.get_cell_elements().index(cell_element);\n",
       "        var cell = Jupyter.notebook.get_cell(cell_idx);\n",
       "\n",
       "        var filename = out_data.content.text;\n",
       "\n",
       "        var code = cell.get_text();\n",
       "        code = code.replace(new RegExp(\"\\\\b\" + orig.replace('.', '\\\\.')\n",
       "                    + \"\\\\(\\\\s*((\\\\w+)=[^\\\\)]*)?\\\\)\"),\n",
       "                dest+\"(\\\"\"+filename+\"\\\",$1)\");\n",
       "        code = code.replace('\",)', '\")')\n",
       "        cell.set_text(code);\n",
       "\n",
       "        Jupyter.notebook.select(cell_idx);\n",
       "        Jupyter.notebook.execute_cell_and_select_below();\n",
       "    }\n",
       "\n",
       "    if (! (window.File && window.FileReader && window.FileList && window.Blob)) {\n",
       "        alert(\"Interactive file upload is not supported by your browser.\");\n",
       "        return;\n",
       "    }\n",
       "\n",
       "    input.disabled = true;\n",
       "    input.style.cursor = \"wait\";\n",
       "    input.parentElement.style.cursor = \"wait\";\n",
       "\n",
       "    var f = input.files[0];\n",
       "    var reader = new FileReader();\n",
       "    reader.onload = (function(f) {\n",
       "        return function (e) {\n",
       "            var obj = {\n",
       "                content: e.target.result,\n",
       "                name: f.name\n",
       "            };\n",
       "\n",
       "            //var pycb = py_callback_name+\"(\"+JSON.stringify(obj)+\")\"\n",
       "            // hack/workaround:\n",
       "            // it seems that Jupyter does not like very long lines\n",
       "            // so we split the data in chunks\n",
       "            var chunk_length = 100;\n",
       "            var pycb = \"__colomoto_upload_name = \" + JSON.stringify(obj.name) + \"\\n\";\n",
       "            pycb += \"__colomoto_upload_content = \\\\\\n\";\n",
       "            for (var i = 0; i < obj.content.length; i += chunk_length) {\n",
       "                pycb += \"\\\"\" + obj.content.substr(i, chunk_length)+\"\\\"\\\\\\n\"\n",
       "            }\n",
       "            pycb += \"\\n\"\n",
       "            pycb += py_callback_name+\"({'name':__colomoto_upload_name, 'content': __colomoto_upload_content})\\n\";\n",
       "            pycb += \"del __colomoto_upload_name, __colomoto_upload_content\"\n",
       "\n",
       "            IPython.notebook.kernel.execute(pycb, {iopub: {output: callback}});\n",
       "        };\n",
       "    })(f);\n",
       "    reader.readAsDataURL(f);\n",
       "}\n",
       "\n",
       "function resolve_function(tool_api, funcname) {\n",
       "    if (tool_api.hasOwnProperty(funcname)) {\n",
       "        return tool_api[funcname];\n",
       "    } else {\n",
       "        return window[funcname];\n",
       "    }\n",
       "}\n",
       "\n",
       "function colomoto_extension(Jupyter, ssid, name, menu, toolbar, tool_api) {\n",
       "\n",
       "    function insert_snippet_code(snippet) {\n",
       "        var cell = Jupyter.notebook.get_selected_cell();\n",
       "        Jupyter.notebook.edit_mode();\n",
       "        cell.code_mirror.replaceSelection(snippet, 'around');\n",
       "        //cell.focus_editor();\n",
       "    }\n",
       "\n",
       "    /**\n",
       "        from https://github.com/moble/jupyter_boilerplate/blob/master/main.js\n",
       "    */\n",
       "    function callback_insert_snippet (evt) {\n",
       "        // this (or event.currentTarget, see below) always refers to the DOM\n",
       "        // element the listener was attached to - see\n",
       "        // http://stackoverflow.com/questions/12077859\n",
       "        insert_snippet_code($(evt.currentTarget).data('snippet-code'));\n",
       "    }\n",
       "    function build_menu_element (menu_item_spec, direction) {\n",
       "        // Create the menu item html element\n",
       "        var element = $('<li/>');\n",
       "\n",
       "        if (typeof menu_item_spec == 'string') {\n",
       "            if (menu_item_spec != '---') {\n",
       "                return element.html(menu_item_spec)\n",
       "                        .addClass('ui-state-disabled')\n",
       "                        .attr({\"style\": \"padding:2px .4em\"})\n",
       "                       ;\n",
       "            }\n",
       "            return element.addClass('divider');\n",
       "        }\n",
       "\n",
       "        var a = $('<a/>')\n",
       "            .attr('href', '#')\n",
       "            .html(menu_item_spec.name)\n",
       "            .appendTo(element);\n",
       "        if (menu_item_spec.hasOwnProperty('snippet')) {\n",
       "            var snippet = menu_item_spec.snippet;\n",
       "            if (typeof snippet == 'string' || snippet instanceof String) {\n",
       "                snippet = [snippet];\n",
       "            }\n",
       "            a.attr({\n",
       "                'title' : \"\", // Do not remove this, even though it's empty!\n",
       "                'data-snippet-code' : snippet.join('\\n'),\n",
       "            })\n",
       "            .on('click', callback_insert_snippet)\n",
       "            .addClass('snippet');\n",
       "        }\n",
       "        else if (menu_item_spec.hasOwnProperty('internal-link')) {\n",
       "            a.attr('href', menu_item_spec['internal-link']);\n",
       "        }\n",
       "        else if (menu_item_spec.hasOwnProperty('external-link')) {\n",
       "            a.empty();\n",
       "            a.attr('href', menu_item_spec['external-link']);\n",
       "            a.attr({\n",
       "                'target' : '_blank',\n",
       "                'title' : 'Opens in a new window',\n",
       "            });\n",
       "            $('<i class=\"fa fa-external-link menu-icon pull-right\"/>').appendTo(a);\n",
       "            $('<span/>').html(menu_item_spec.name).appendTo(a);\n",
       "        }\n",
       "\n",
       "        if (menu_item_spec.hasOwnProperty('sub-menu')) {\n",
       "            element\n",
       "                .addClass('dropdown-submenu')\n",
       "                .toggleClass('dropdown-submenu-left', direction === 'left');\n",
       "            var sub_element = $('<ul class=\"dropdown-menu\"/>')\n",
       "                .toggleClass('dropdown-menu-compact', menu_item_spec.overlay === true) // For space-saving menus\n",
       "                .appendTo(element);\n",
       "\n",
       "            var new_direction = (menu_item_spec['sub-menu-direction'] === 'left') ? 'left' : 'right';\n",
       "            for (var j=0; j<menu_item_spec['sub-menu'].length; ++j) {\n",
       "                var sub_menu_item_spec = build_menu_element(menu_item_spec['sub-menu'][j], new_direction);\n",
       "                if(sub_menu_item_spec !== null) {\n",
       "                    sub_menu_item_spec.appendTo(sub_element);\n",
       "                }\n",
       "            }\n",
       "        }\n",
       "\n",
       "        return element;\n",
       "    }\n",
       "\n",
       "    function menu_setup (menu_item_specs, sibling, insert_before_sibling) {\n",
       "        for (var i=0; i<menu_item_specs.length; ++i) {\n",
       "            var menu_item_spec;\n",
       "            if (insert_before_sibling) {\n",
       "                menu_item_spec = menu_item_specs[i];\n",
       "            } else {\n",
       "                menu_item_spec = menu_item_specs[menu_item_specs.length-1-i];\n",
       "            }\n",
       "            var direction = (menu_item_spec['menu-direction'] == 'left') ? 'left' : 'right';\n",
       "            var menu_element = build_menu_element(menu_item_spec, direction);\n",
       "            // We need special properties if this item is in the navbar\n",
       "            if ($(sibling).parent().is('ul.nav.navbar-nav')) {\n",
       "                menu_element\n",
       "                    .addClass('dropdown')\n",
       "                    .removeClass('dropdown-submenu dropdown-submenu-left');\n",
       "                menu_element.children('a')\n",
       "                    .addClass('dropdown-toggle')\n",
       "                    .attr({\n",
       "                        'id': name+'_menu',\n",
       "                        'data-toggle' : 'dropdown',\n",
       "                        'aria-expanded' : 'false'\n",
       "                    });\n",
       "            }\n",
       "\n",
       "            // Insert the menu element into DOM\n",
       "            menu_element[insert_before_sibling ? 'insertBefore': 'insertAfter'](sibling);\n",
       "        }\n",
       "    }\n",
       "    /** end from */\n",
       "\n",
       "\n",
       "    function self_cleanup() {\n",
       "        var cell_element = $(\"script[class='to-be-removed']\").parents('.cell');\n",
       "        var cell_idx = Jupyter.notebook.get_cell_elements().index(cell_element);\n",
       "        var cell = Jupyter.notebook.get_cell(cell_idx);\n",
       "        var to_remove = -1;\n",
       "        for (var i = 0; i < cell.output_area.outputs.length; ++i) {\n",
       "            var oa = cell.output_area.outputs[i];\n",
       "            if (oa.output_type == \"display_data\"\n",
       "                && typeof oa.data[\"text/html\"] != 'undefined'\n",
       "                && oa.data[\"text/html\"].indexOf(' class=\"to-be-removed\"') >= 0) {\n",
       "                to_remove = i;\n",
       "                break;\n",
       "            }\n",
       "        }\n",
       "        if (to_remove == -1) {\n",
       "            console.log(\"cannot find toberemoved\");\n",
       "        } else {\n",
       "            cell.output_area.outputs.splice(to_remove, 1);\n",
       "        }\n",
       "    }\n",
       "\n",
       "    function toolbar_setup(actions) {\n",
       "        var buttons = [];\n",
       "        for (var i = 0; i < actions.length; ++i) {\n",
       "            var setup = actions[i].setup;\n",
       "            if (typeof setup.handler == 'string') {\n",
       "                setup.handler = resolve_function(tool_api, setup.handler);\n",
       "            }\n",
       "            buttons.push(Jupyter.actions.register(actions[i].setup,\n",
       "                actions[i].name, name));\n",
       "        }\n",
       "        $(\"#\"+name+\"-toolbar\").remove();\n",
       "        Jupyter.toolbar.add_buttons_group(buttons, name+\"-toolbar\");\n",
       "    }\n",
       "\n",
       "    function replace_menu_snippets(menu_spec, orig, dest) {\n",
       "        if (menu_spec.hasOwnProperty(\"snippet\")) {\n",
       "            var snippet = menu_spec.snippet;\n",
       "            if (typeof snippet == \"string\" || snippet instanceof String) {\n",
       "                menu_spec[\"snippet\"] = snippet.replace(orig, dest);\n",
       "            } else {\n",
       "                for (var i = 0; i < snippet.length; ++i) {\n",
       "                    menu_spec[\"snippet\"][i] = snippet[i].replace(orig, dest);\n",
       "                }\n",
       "            }\n",
       "        }\n",
       "        if (menu_spec.hasOwnProperty(\"sub-menu\")) {\n",
       "            for (var i = 0; i < menu_spec[\"sub-menu\"].length; ++i) {\n",
       "                replace_menu_snippets(menu_spec[\"sub-menu\"][i], orig, dest);\n",
       "            }\n",
       "        }\n",
       "    }\n",
       "\n",
       "    function load_ipython_extension() {\n",
       "\n",
       "        var mycellelt = $(\"#\"+ssid).parents('.cell');\n",
       "        var myidx = Jupyter.notebook.get_cell_elements().index(mycellelt);\n",
       "        var import_cell = Jupyter.notebook.get_cell(myidx);\n",
       "\n",
       "        var alias = detect_import(import_cell, name);\n",
       "        tool_api.module_alias = alias;\n",
       "        if (alias && alias != name) {\n",
       "            var orig = new RegExp(\"\\\\b\"+name+\"\\\\b\", \"g\");\n",
       "            replace_menu_snippets(menu, orig, alias);\n",
       "        }\n",
       "\n",
       "        if (toolbar) {\n",
       "            toolbar_setup(toolbar);\n",
       "        }\n",
       "\n",
       "        $(\"#\"+name+\"_menu\").parent().remove();\n",
       "        if (menu) {\n",
       "            menu_setup([menu], $(\"#help_menu\").parent(), true);\n",
       "        }\n",
       "\n",
       "        if (tool_api.hasOwnProperty(\"post_install_callback\")) {\n",
       "            tool_api.post_install_callback();\n",
       "        }\n",
       "\n",
       "        setTimeout(self_cleanup, 5000);\n",
       "    };\n",
       "\n",
       "    load_ipython_extension();\n",
       "}\n",
       "\n",
       "function resolve_toolbar_handlers(tool_api, toolbar_spec) {\n",
       "    for (var i = 0; i < toolbar_spec.length; ++i) {\n",
       "        func = resolve_function(tool_api, toolbar_spec[i][\"setup\"][\"handler\"]);\n",
       "        toolbar_spec[i][\"setup\"][\"handler\"] = func;\n",
       "    }\n",
       "    return toolbar_spec\n",
       "}\n",
       "\n",
       "\n",
       "    var minibn_jsapi = {  };\n",
       "    colomoto_extension(Jupyter, \"colomoto-setup-1100485\", \"minibn\", null, null, minibn_jsapi);\n",
       "     }</script>"
      ],
      "text/plain": [
       "<IPython.core.display.HTML object>"
      ]
     },
     "metadata": {},
     "output_type": "display_data"
    },
    {
     "data": {
      "text/html": [
       "<script type=\"text/javascript\" id=\"colomoto-setup-3489719\" class=\"to-be-removed\">\n",
       "        if (typeof Jupyter != 'undefined') {\n",
       "            \n",
       "    var mymodule_jsapi = {  };\n",
       "    colomoto_extension(Jupyter, \"colomoto-setup-3489719\", \"mymodule\", {\"name\": \"MaBoSS\", \"sub-menu\": [{\"name\": \"Load MaBoSS file\", \"snippet\": [\"masim = maboss.load(\\\"filename.bnd\\\", \\\"filename.cfg\\\")\"]}, {\"name\": \"Network\", \"sub-menu\": [{\"name\": \"Set istate\", \"snippet\": [\"maboss.wg_set_istate(masim)\"]}, {\"name\": \"Get initial state\", \"snippet\": [\"masim.get_initial_state()\"]}]}, {\"name\": \"Simulation\", \"sub-menu\": [{\"name\": \"Create mutant\", \"snippet\": [\"maboss.wg_make_mutant(masim)\"]}, {\"name\": \"Run\", \"snippet\": [\"simres = masim.run()\"]}, {\"name\": \"Set initial states\", \"snippet\": [\"masim.network.set_istate([\\\"mygenelist\\\"],{})\"]}, {\"name\": \"Set output\", \"snippet\": [\"maboss.wg_set_output(masim)\"]}]}, {\"name\": \"Results\", \"sub-menu\": [{\"name\": \"Save results\", \"snippet\": [\"simres.save(\\\"filename\\\")\"]}, {\"name\": \"Plot piechart\", \"snippet\": [\"simres.plot_piechart()\"]}, {\"name\": \"Plot trajectory\", \"snippet\": [\"simres.plot_trajectory()\"]}]}, {\"name\": \"Conversion\", \"sub-menu\": [{\"name\": \"Convert to biolqm\", \"snippet\": [\"biolqm_model = maboss.to_biolqm(masim)\"]}, {\"name\": \"Convert to minibn\", \"snippet\": [\"minibn_model = maboss.to_minibn(masim)\"]}]}, \"---\", {\"name\": \"Documentation\", \"external-link\": \"http://pymaboss.readthedocs.io\"}]}, null, mymodule_jsapi);\n",
       "     }</script><style type=\"text/css\">\n",
       "    #mymodule_menu {\n",
       "        color: green;\n",
       "        background-color: white;\n",
       "    }\n",
       "    </style>"
      ],
      "text/plain": [
       "<IPython.core.display.HTML object>"
      ]
     },
     "metadata": {},
     "output_type": "display_data"
    }
   ],
   "source": [
    "import maboss"
   ]
  },
  {
   "cell_type": "markdown",
   "id": "15a942aa-4798-4f51-8472-32224086cd18",
   "metadata": {},
   "source": [
    "https://journals.plos.org/ploscompbiol/article/authors?id=10.1371/journal.pcbi.1004571"
   ]
  },
  {
   "cell_type": "markdown",
   "id": "9795b688-7ab0-446b-848c-19b56e386b35",
   "metadata": {},
   "source": [
    "To elucidate the role of individual mutations or their combinations affecting the metastatic development, a logical model has been constructed that recapitulates published experimental results of known gene perturbations on local invasion and migration processes, and predict the effect of not yet experimentally assessed mutations. The model has been validated using experimental data on transcriptome dynamics following TGF-β-dependent induction of Epithelial to Mesenchymal Transition in lung cancer cell lines"
   ]
  },
  {
   "cell_type": "code",
   "execution_count": null,
   "id": "b7f7aaf8-cf03-470a-b419-3e885b453f7b",
   "metadata": {},
   "outputs": [],
   "source": []
  },
  {
   "cell_type": "markdown",
   "id": "5e52be22-33e8-4476-bcf4-fc8043e56e8b",
   "metadata": {},
   "source": [
    "### Loading the model"
   ]
  },
  {
   "cell_type": "code",
   "execution_count": null,
   "id": "5999ad17-2b70-43f9-927b-1e8432e4aa16",
   "metadata": {},
   "outputs": [],
   "source": []
  },
  {
   "cell_type": "code",
   "execution_count": 2,
   "id": "e291050c-caa7-4064-9a8a-e4355d083e82",
   "metadata": {},
   "outputs": [
    {
     "name": "stdout",
     "output_type": "stream",
     "text": [
      "Help on function load in module maboss.gsparser:\n",
      "\n",
      "load(bnd_filename, *cfg_filenames, **extra_args)\n",
      "    Loads a network from a MaBoSS format file.\n",
      "    \n",
      "    :param str bnd_filename: Network file\n",
      "    :param str cfg_filename: Configuraton file\n",
      "    :keyword str simulation_name: name of the returned :py:class:`.Simulation` object\n",
      "    :rtype: :py:class:`.Simulation`\n",
      "\n"
     ]
    }
   ],
   "source": [
    "help(maboss.load)"
   ]
  },
  {
   "cell_type": "code",
   "execution_count": 3,
   "id": "9ce678d8-fd3a-493a-8c9f-104ae3094783",
   "metadata": {},
   "outputs": [
    {
     "ename": "NameError",
     "evalue": "name 'COHEN_NETWORK_FILE' is not defined",
     "output_type": "error",
     "traceback": [
      "\u001b[0;31m---------------------------------------------------------------------------\u001b[0m",
      "\u001b[0;31mNameError\u001b[0m                                 Traceback (most recent call last)",
      "Input \u001b[0;32mIn [3]\u001b[0m, in \u001b[0;36m<cell line: 1>\u001b[0;34m()\u001b[0m\n\u001b[0;32m----> 1\u001b[0m model_invasion \u001b[38;5;241m=\u001b[39m maboss\u001b[38;5;241m.\u001b[39mload(\u001b[43mCOHEN_NETWORK_FILE\u001b[49m, COHEN_CONFIG_FILE)\n",
      "\u001b[0;31mNameError\u001b[0m: name 'COHEN_NETWORK_FILE' is not defined"
     ]
    }
   ],
   "source": [
    "model_invasion = maboss.load(COHEN_NETWORK_FILE, COHEN_CONFIG_FILE)"
   ]
  },
  {
   "cell_type": "markdown",
   "id": "f2c5595b-37cd-4b05-8325-3408caf13d5d",
   "metadata": {},
   "source": [
    "### Running the simulation"
   ]
  },
  {
   "cell_type": "code",
   "execution_count": null,
   "id": "15910d21-bb09-4700-9090-e22bed78bf6c",
   "metadata": {},
   "outputs": [],
   "source": [
    "help(model_invasion)"
   ]
  },
  {
   "cell_type": "code",
   "execution_count": null,
   "id": "d0d6bc1f-4612-4962-9f84-8ca5df7c0e34",
   "metadata": {},
   "outputs": [],
   "source": [
    "help(model_invasion.run)"
   ]
  },
  {
   "cell_type": "code",
   "execution_count": null,
   "id": "9f09a129-99be-49ce-a5ab-db4319869d32",
   "metadata": {},
   "outputs": [],
   "source": [
    "res_invasion = model_invasion.run()"
   ]
  },
  {
   "cell_type": "markdown",
   "id": "6dd0b379-5951-446c-b31b-0c4fe8f7a064",
   "metadata": {},
   "source": [
    "### Visualising the steady states distribution"
   ]
  },
  {
   "cell_type": "code",
   "execution_count": null,
   "id": "4b5b36c5-ea8b-4dd9-bf1e-ac121eaefa33",
   "metadata": {},
   "outputs": [],
   "source": [
    "help(res_invasion)"
   ]
  },
  {
   "cell_type": "code",
   "execution_count": null,
   "id": "34226f30-a05e-4171-afd6-ff0cdbdbb1c7",
   "metadata": {},
   "outputs": [],
   "source": [
    "res_invasion.plot_piechart()"
   ]
  },
  {
   "cell_type": "markdown",
   "id": "6bda7dd0-14fc-4882-96fa-4f0d0d4dfd3a",
   "metadata": {},
   "source": [
    "### Visualising the trajectory of steady states distribution"
   ]
  },
  {
   "cell_type": "code",
   "execution_count": null,
   "id": "c79fb0e4-92a5-4b88-9f25-3423cb6daee6",
   "metadata": {},
   "outputs": [],
   "source": [
    "res_invasion.plot_trajectory()"
   ]
  },
  {
   "cell_type": "markdown",
   "id": "a14bb97a-4fc2-4adf-ad12-179df6a75d44",
   "metadata": {},
   "source": [
    "### Visualizing the trajectory of individual nodes"
   ]
  },
  {
   "cell_type": "code",
   "execution_count": null,
   "id": "c6ae3fd6-ec77-4039-a2de-9d6f3efbb85d",
   "metadata": {},
   "outputs": [],
   "source": [
    "res_invasion.plot_node_trajectory()"
   ]
  },
  {
   "cell_type": "markdown",
   "id": "1cec48db-e17f-4e38-b997-5eb3314ec139",
   "metadata": {},
   "source": [
    "### Getting the trajectories as a pandas dataframe"
   ]
  },
  {
   "cell_type": "code",
   "execution_count": null,
   "id": "ac504e4e-1f1d-4b6d-975f-5156701f4f76",
   "metadata": {},
   "outputs": [],
   "source": [
    "table = res_invasion.get_states_probtraj()\n",
    "table"
   ]
  },
  {
   "cell_type": "code",
   "execution_count": null,
   "id": "f3c38230-93d4-4558-9f68-cda5bda0926c",
   "metadata": {},
   "outputs": [],
   "source": [
    "n_ap_n_inv = table[\"<nil>\"]+table[\"CellCycleArrest\"]\n",
    "n_ap_n_inv[n_ap_n_inv.index <= 10].plot()"
   ]
  },
  {
   "cell_type": "markdown",
   "id": "857f2e38-a0fd-4ebd-a6c7-d27b3a62b9fa",
   "metadata": {},
   "source": [
    "### Simulating the model without ECM nor DNA damage"
   ]
  },
  {
   "cell_type": "code",
   "execution_count": null,
   "id": "f5bbc183-4343-46e2-a794-7a7f73d15270",
   "metadata": {},
   "outputs": [],
   "source": [
    "no_ecm_no_dd = model_invasion.copy()"
   ]
  },
  {
   "cell_type": "code",
   "execution_count": null,
   "id": "47626af4-831f-46a4-b171-401fd623d76a",
   "metadata": {},
   "outputs": [],
   "source": [
    "help(no_ecm_no_dd.network.set_istate)"
   ]
  },
  {
   "cell_type": "code",
   "execution_count": null,
   "id": "c88cbe71-7410-4ce1-9743-e4f20743eb2e",
   "metadata": {},
   "outputs": [],
   "source": [
    "no_ecm_no_dd.network.set_istate('ECMicroenv', [1, 0])\n",
    "no_ecm_no_dd.network.set_istate('DNAdamage', [1, 0])"
   ]
  },
  {
   "cell_type": "code",
   "execution_count": null,
   "id": "e4dd6676-d926-450e-8fc4-becb68d4d247",
   "metadata": {},
   "outputs": [],
   "source": [
    "res_no_ecm_no_dd = no_ecm_no_dd.run()"
   ]
  },
  {
   "cell_type": "code",
   "execution_count": null,
   "id": "fbe884e2-dac9-4150-9fd0-859099bf873c",
   "metadata": {},
   "outputs": [],
   "source": [
    "res_no_ecm_no_dd.plot_piechart()"
   ]
  },
  {
   "cell_type": "markdown",
   "id": "51bb08cf-e24b-4745-9a8f-6e76e7a4d2e8",
   "metadata": {},
   "source": [
    "### Simulating with ECM but no DNADamage"
   ]
  },
  {
   "cell_type": "code",
   "execution_count": null,
   "id": "b8eb0a8d-5ddf-4bfb-b098-4be40e58cd78",
   "metadata": {},
   "outputs": [],
   "source": [
    "ecm_no_dd = model_invasion.copy()"
   ]
  },
  {
   "cell_type": "code",
   "execution_count": null,
   "id": "fb30db9e-179a-4a28-bec2-08ed0ea74a92",
   "metadata": {},
   "outputs": [],
   "source": [
    "ecm_no_dd.network.set_istate('ECMicroenv', [0, 1])\n",
    "ecm_no_dd.network.set_istate('DNAdamage', [1, 0])"
   ]
  },
  {
   "cell_type": "code",
   "execution_count": null,
   "id": "25c23869-548f-4f2e-9a2e-9c4533435963",
   "metadata": {},
   "outputs": [],
   "source": [
    "res_ecm_no_dd = ecm_no_dd.run()"
   ]
  },
  {
   "cell_type": "code",
   "execution_count": null,
   "id": "d5f90dec-9ffc-4604-8a04-04bd8a546029",
   "metadata": {},
   "outputs": [],
   "source": [
    "res_ecm_no_dd.plot_piechart()"
   ]
  },
  {
   "cell_type": "markdown",
   "id": "e403d819-585f-4844-b7e5-7a650e832218",
   "metadata": {},
   "source": [
    "### Simulating with ECM and DNA damage"
   ]
  },
  {
   "cell_type": "code",
   "execution_count": null,
   "id": "959b5d83-58ab-482e-8128-c61e52cb5328",
   "metadata": {},
   "outputs": [],
   "source": [
    "ecm_dd = model_invasion.copy()"
   ]
  },
  {
   "cell_type": "code",
   "execution_count": null,
   "id": "1ba76466-5324-4b2b-89a2-4cd50988b08e",
   "metadata": {},
   "outputs": [],
   "source": [
    "ecm_dd.network.set_istate('ECMicroenv', [0, 1])\n",
    "ecm_dd.network.set_istate('DNAdamage', [0, 1])"
   ]
  },
  {
   "cell_type": "code",
   "execution_count": null,
   "id": "91e97b69-e26a-4c5b-a6fe-75efa5f61219",
   "metadata": {},
   "outputs": [],
   "source": [
    "res_ecm_dd = ecm_dd.run()"
   ]
  },
  {
   "cell_type": "code",
   "execution_count": null,
   "id": "d3d48ab4-d51c-4b80-a38b-ded6e2f0ccf0",
   "metadata": {},
   "outputs": [],
   "source": [
    "res_ecm_dd.plot_piechart()"
   ]
  },
  {
   "cell_type": "markdown",
   "id": "a9cdba5f-066f-4e4e-81bd-160e69f5abba",
   "metadata": {},
   "source": [
    "### Simulating Notch++, p53--"
   ]
  },
  {
   "cell_type": "code",
   "execution_count": null,
   "id": "4108998c-4949-4166-8cf4-269e0b01c287",
   "metadata": {},
   "outputs": [],
   "source": [
    "mutant_invasion = model_invasion.copy()"
   ]
  },
  {
   "cell_type": "code",
   "execution_count": null,
   "id": "d7cdd8a2-b078-4dd1-a9d4-ab5dbfbb61b6",
   "metadata": {},
   "outputs": [],
   "source": [
    "help(mutant_invasion.mutate)"
   ]
  },
  {
   "cell_type": "code",
   "execution_count": null,
   "id": "13358d61-e30b-45bd-8cbc-d40e9ce05e49",
   "metadata": {},
   "outputs": [],
   "source": [
    "print(mutant_invasion.network.names)"
   ]
  },
  {
   "cell_type": "code",
   "execution_count": null,
   "id": "77def7a4-d8a6-4f16-a6ff-54c3945ee1e6",
   "metadata": {},
   "outputs": [],
   "source": [
    "mutant_invasion.mutate('NICD', 'ON')\n",
    "mutant_invasion.mutate('p53', 'OFF')"
   ]
  },
  {
   "cell_type": "code",
   "execution_count": null,
   "id": "c0643149-2e44-493c-a906-0440988c4578",
   "metadata": {},
   "outputs": [],
   "source": [
    "res_mutant_invasion = mutant_invasion.run()"
   ]
  },
  {
   "cell_type": "code",
   "execution_count": null,
   "id": "04d2e8b0-441d-4e46-a4ba-69f3cf247e0f",
   "metadata": {},
   "outputs": [],
   "source": [
    "res_mutant_invasion.plot_piechart()"
   ]
  },
  {
   "cell_type": "markdown",
   "id": "82000d3b-00d7-408d-bbdd-104102603837",
   "metadata": {},
   "source": [
    "## Montagud Prostate Cancer"
   ]
  },
  {
   "cell_type": "markdown",
   "id": "9930ecc2-1273-4109-a4b0-0c0dd6edbb04",
   "metadata": {},
   "source": [
    "https://elifesciences.org/articles/72626"
   ]
  },
  {
   "cell_type": "code",
   "execution_count": null,
   "id": "ea654770-dae5-4fca-9c7d-18047216cccc",
   "metadata": {},
   "outputs": [],
   "source": []
  },
  {
   "cell_type": "markdown",
   "id": "d741861d-1dc3-42ea-8a7e-292d921910bb",
   "metadata": {},
   "source": [
    "### Loading the model"
   ]
  },
  {
   "cell_type": "code",
   "execution_count": null,
   "id": "73ecc55a-7a14-4446-b9fc-bd59ca2c4d0c",
   "metadata": {},
   "outputs": [],
   "source": [
    "model_prostate = maboss.load(\"models/Montagud2022_Prostate_Cancer.bnd\", \"models/Montagud2022_Prostate_Cancer.cfg\")"
   ]
  },
  {
   "cell_type": "markdown",
   "id": "39c39c8a-048a-4670-82ae-1606c103419c",
   "metadata": {},
   "source": [
    "### Run the default simulation"
   ]
  },
  {
   "cell_type": "code",
   "execution_count": null,
   "id": "393048b0-c2ee-47be-a640-f98e88f5f817",
   "metadata": {},
   "outputs": [],
   "source": [
    "res_prostate = model_prostate.run()"
   ]
  },
  {
   "cell_type": "markdown",
   "id": "e2319956-e03a-4620-beb7-10f4f59bd723",
   "metadata": {},
   "source": [
    "### Print results"
   ]
  },
  {
   "cell_type": "code",
   "execution_count": null,
   "id": "7c92d148-de54-4624-a92d-ef9371609209",
   "metadata": {},
   "outputs": [],
   "source": [
    "res_prostate.plot_trajectory()"
   ]
  },
  {
   "cell_type": "markdown",
   "id": "51fb289e-ee60-42af-89d0-d33a0f4786ba",
   "metadata": {},
   "source": [
    "### Printing the list of nodes"
   ]
  },
  {
   "cell_type": "code",
   "execution_count": null,
   "id": "05981c00-8278-430c-bc9c-5a1aa71f85ca",
   "metadata": {},
   "outputs": [],
   "source": [
    "print(model_prostate.network.names)"
   ]
  },
  {
   "cell_type": "markdown",
   "id": "2b71e60c-285f-4097-81e9-9b667d0e2ddc",
   "metadata": {},
   "source": [
    "### Simulating the WT "
   ]
  },
  {
   "cell_type": "markdown",
   "id": "81017947-74a6-4a9f-97dc-d58b4161aad8",
   "metadata": {},
   "source": [
    "These healthy cells mostly exhibit quiescence (neither proliferation nor apoptosis) in the absence of any input (Figure 3A)"
   ]
  },
  {
   "cell_type": "code",
   "execution_count": null,
   "id": "b581a7eb-15aa-4c2e-8514-483daa23799a",
   "metadata": {},
   "outputs": [],
   "source": [
    "for node in model_prostate.network.keys():\n",
    "    model_prostate.network.set_istate(node, [1, 0])"
   ]
  },
  {
   "cell_type": "code",
   "execution_count": null,
   "id": "26c14d1b-92bc-432e-b94c-4833d4abb1a1",
   "metadata": {},
   "outputs": [],
   "source": [
    "res_prostate_zero = model_prostate.run()\n",
    "res_prostate_zero.plot_piechart()"
   ]
  },
  {
   "cell_type": "markdown",
   "id": "4aaf2750-8422-4d9d-84ad-6a26767d22ee",
   "metadata": {},
   "source": [
    "### Simulating the growth condition"
   ]
  },
  {
   "cell_type": "markdown",
   "id": "e79f3e60-66cd-419e-8724-a0f91e139598",
   "metadata": {},
   "source": [
    "When Nutrients and growth factors (EGF or FGF) are present, Proliferation is activated (Figure 3B)."
   ]
  },
  {
   "cell_type": "code",
   "execution_count": null,
   "id": "8deddccc-ea7b-439f-ac29-0d12f09098b5",
   "metadata": {},
   "outputs": [],
   "source": [
    "prostate_growth = model_prostate.copy()"
   ]
  },
  {
   "cell_type": "code",
   "execution_count": null,
   "id": "de8169a4-b5c9-476a-85c6-dda8ce883db6",
   "metadata": {},
   "outputs": [],
   "source": [
    "prostate_growth.network.set_istate('EGF', [0, 1])\n",
    "prostate_growth.network.set_istate('Nutrients', [0, 1])"
   ]
  },
  {
   "cell_type": "code",
   "execution_count": null,
   "id": "88ff8ce8-8f56-49f1-9a8a-4e5f46d72ac6",
   "metadata": {},
   "outputs": [],
   "source": [
    "res_prostate_growth = prostate_growth.run()"
   ]
  },
  {
   "cell_type": "code",
   "execution_count": null,
   "id": "3f8e18c0-2f70-42de-8388-284ffc03099d",
   "metadata": {},
   "outputs": [],
   "source": [
    "res_prostate_growth.plot_piechart()"
   ]
  },
  {
   "cell_type": "markdown",
   "id": "76c5ac57-e8b2-4113-a68c-8e2cc14b2c67",
   "metadata": {},
   "source": [
    "### Simulating the apoptosis phenotype"
   ]
  },
  {
   "cell_type": "markdown",
   "id": "6856cbc0-8047-44e1-b3c0-a33a5b0d8fcb",
   "metadata": {},
   "source": [
    "The model was simulated with Carcinogen, Androgen, TNFalpha, Acidosis, and Hypoxia ON."
   ]
  },
  {
   "cell_type": "code",
   "execution_count": null,
   "id": "25c946c7-a961-4933-befc-b68eff0dc4c8",
   "metadata": {},
   "outputs": [],
   "source": [
    "prostate_death = model_prostate.copy()"
   ]
  },
  {
   "cell_type": "code",
   "execution_count": null,
   "id": "eadddf11-ca2e-4f7e-9aec-8d585470de5f",
   "metadata": {},
   "outputs": [],
   "source": [
    "prostate_death.network.set_istate('Carcinogen', [0, 1])\n",
    "prostate_death.network.set_istate('Androgen', [0, 1])\n",
    "prostate_death.network.set_istate('TNFalpha', [0, 1])\n",
    "prostate_death.network.set_istate('Acidosis', [0, 1])\n",
    "prostate_death.network.set_istate('Hypoxia', [0, 1])"
   ]
  },
  {
   "cell_type": "code",
   "execution_count": null,
   "id": "032fdd71-bc7f-419f-80e3-5a6f8da65cdd",
   "metadata": {},
   "outputs": [],
   "source": [
    "res_prostate_death = prostate_death.run()"
   ]
  },
  {
   "cell_type": "code",
   "execution_count": null,
   "id": "a4b1007b-1bf1-4605-bc24-2362f543a43b",
   "metadata": {},
   "outputs": [],
   "source": [
    "res_prostate_death.plot_piechart()"
   ]
  },
  {
   "cell_type": "markdown",
   "id": "4c2fa625-b4cc-4fab-8ddf-3ec9638229fd",
   "metadata": {},
   "source": [
    "### Simulating MYC_MAX mutant on proliferative phenotype"
   ]
  },
  {
   "cell_type": "code",
   "execution_count": null,
   "id": "8ea6eeb6-79d4-48eb-a6f0-cb4dfb67a371",
   "metadata": {},
   "outputs": [],
   "source": [
    "mutant_prostate_growth = prostate_growth.copy()"
   ]
  },
  {
   "cell_type": "code",
   "execution_count": null,
   "id": "8c70e160-ef8a-43e0-8086-703703001f20",
   "metadata": {},
   "outputs": [],
   "source": [
    "mutant_prostate_growth.mutate(\"MYC_MAX\", \"OFF\")"
   ]
  },
  {
   "cell_type": "code",
   "execution_count": null,
   "id": "dfba244c-71d8-4584-8f8e-5405fd3c0f18",
   "metadata": {},
   "outputs": [],
   "source": [
    "res_mutant_prostate_growth = mutant_prostate_growth.run()"
   ]
  },
  {
   "cell_type": "code",
   "execution_count": null,
   "id": "46dc507f-9db3-44a0-9f41-cd041a210bca",
   "metadata": {},
   "outputs": [],
   "source": [
    "res_mutant_prostate_growth.plot_piechart()"
   ]
  },
  {
   "cell_type": "markdown",
   "id": "69ac0e04-0d64-46ba-abc5-a8d4ba2c1a99",
   "metadata": {},
   "source": [
    "### Checking multiple single node mutants "
   ]
  },
  {
   "cell_type": "code",
   "execution_count": null,
   "id": "e7a67021-4bbc-4f3d-8ee8-fe0c601818a2",
   "metadata": {},
   "outputs": [],
   "source": [
    "from maboss.pipelines import simulate_single_mutants, filter_sensitivity"
   ]
  },
  {
   "cell_type": "code",
   "execution_count": null,
   "id": "0c8218db-12da-464c-b378-44aed542e980",
   "metadata": {},
   "outputs": [],
   "source": [
    "help(simulate_single_mutants)"
   ]
  },
  {
   "cell_type": "code",
   "execution_count": null,
   "id": "2ef4c332-ebe0-44ab-9b43-0d5c42a1af57",
   "metadata": {},
   "outputs": [],
   "source": [
    "simulations = simulate_single_mutants(prostate_growth, [\"AKT\", \"AR\", \"EGFR\", \"ERK\", \"MYC_MAX\", \"ROS\"], \"OFF\")"
   ]
  },
  {
   "cell_type": "code",
   "execution_count": null,
   "id": "e5082953-423e-4d6a-bbe1-a60269a9f924",
   "metadata": {},
   "outputs": [],
   "source": [
    "for simulation, result in simulations.items():\n",
    "    result.plot_piechart()\n",
    "    plt.title(simulation)"
   ]
  },
  {
   "cell_type": "markdown",
   "id": "d6965a90-3b2a-4d26-a9b0-b0e858d6e308",
   "metadata": {},
   "source": [
    "### Filter set of results which are not proliferative"
   ]
  },
  {
   "cell_type": "code",
   "execution_count": null,
   "id": "2702b672-095f-42ac-825d-a6a0f71756a8",
   "metadata": {},
   "outputs": [],
   "source": [
    "help(filter_sensitivity)"
   ]
  },
  {
   "cell_type": "code",
   "execution_count": null,
   "id": "3f9d2383-6d24-48d8-a6aa-460b704dd6b0",
   "metadata": {},
   "outputs": [],
   "source": [
    " = filter_sensitivity(simulations, state='Proliferation', maximum=0)"
   ]
  },
  {
   "cell_type": "code",
   "execution_count": null,
   "id": "d6210eb8-292a-43ea-8706-08ff6646fd77",
   "metadata": {},
   "outputs": [],
   "source": [
    "for simulation, result in res_filtered.items():\n",
    "    result.plot_piechart()\n",
    "    plt.title(simulation)"
   ]
  },
  {
   "cell_type": "code",
   "execution_count": null,
   "id": "1c7e4391-9a85-4ecc-978d-49972facf6be",
   "metadata": {},
   "outputs": [],
   "source": []
  }
 ],
 "metadata": {
  "kernelspec": {
   "display_name": "Python 3 (ipykernel)",
   "language": "python",
   "name": "python3"
  },
  "language_info": {
   "codemirror_mode": {
    "name": "ipython",
    "version": 3
   },
   "file_extension": ".py",
   "mimetype": "text/x-python",
   "name": "python",
   "nbconvert_exporter": "python",
   "pygments_lexer": "ipython3",
   "version": "3.9.12"
  }
 },
 "nbformat": 4,
 "nbformat_minor": 5
}
