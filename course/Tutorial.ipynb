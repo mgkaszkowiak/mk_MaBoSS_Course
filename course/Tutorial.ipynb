{
 "cells": [
  {
   "cell_type": "code",
   "execution_count": null,
   "id": "7726991c-8296-425d-895d-f691f89cb4f4",
   "metadata": {},
   "outputs": [],
   "source": []
  },
  {
   "cell_type": "markdown",
   "id": "13d087d4-f710-4636-8c91-536eeb96e2bc",
   "metadata": {},
   "source": [
    "First we import MaBoSS"
   ]
  },
  {
   "cell_type": "code",
   "execution_count": 1,
   "id": "a454b683-7242-4edb-9782-89d60dc5a6af",
   "metadata": {},
   "outputs": [
    {
     "data": {
      "text/markdown": [
       "This notebook has been executed using the docker image `colomoto/colomoto-docker:2022-05-01`"
      ],
      "text/plain": [
       "<IPython.core.display.Markdown object>"
      ]
     },
     "metadata": {},
     "output_type": "display_data"
    },
    {
     "data": {
      "text/html": [
       "<script type=\"text/javascript\" id=\"colomoto-setup-8872030\" class=\"to-be-removed\">\n",
       "        if (typeof Jupyter != 'undefined') {\n",
       "            \n",
       "function detect_import(cell, module) {\n",
       "    var code = cell.get_text();\n",
       "    code = code.replace(/\\\\\\n/g, \"\");\n",
       "    var lines = code.split(\"\\n\");\n",
       "    var r_simple = new RegExp(\"^(\"+module+\")$\");\n",
       "    var r_alias = new RegExp(\"^\"+module+\"\\\\s+as\\\\s+(\\\\w+)$\");\n",
       "    for (var i = 0; i < lines.length; ++i) {\n",
       "        if (/^import\\s/.test(lines[i])) {\n",
       "            code = lines[i].substr(7);\n",
       "            var parts = code.split(\",\")\n",
       "            for (var j = 0; j < parts.length; ++j) {\n",
       "                code = parts[j].trim();\n",
       "                var m = code.match(r_simple);\n",
       "                if (!m) {\n",
       "                    m = code.match(r_alias);\n",
       "                }\n",
       "                if (m) {\n",
       "                    return m[1];\n",
       "                }\n",
       "            }\n",
       "        }\n",
       "    }\n",
       "    return module;\n",
       "}\n",
       "\n",
       "function colomoto_replace_call(cell, orig, dest, args, comment=false) {\n",
       "    var call_regexp = new RegExp(\"\\\\.\"+orig.replace(\".\",\"\\\\.\")+\"\\\\(\");\n",
       "    var call_replacer = new RegExp(\"\\\\.\"+orig.replace(\".\",\"\\\\.\")\n",
       "                    + \"\\\\(\\\\s*([^\\\\)]*)?\\\\)\");\n",
       "    var code = cell.get_text();\n",
       "    var lines = code.split(\"\\n\");\n",
       "    if (args) {\n",
       "        var strargs = \", \"+args.join(\", \");\n",
       "    } else {\n",
       "        var strargs = \"\";\n",
       "    }\n",
       "    for (var i = 0; i < lines.length; ++i) {\n",
       "        if (call_regexp.test(lines[i])) {\n",
       "            var code = \"\"\n",
       "            if (comment) {\n",
       "                code += \"#\"+lines[i]+\"\\n\";\n",
       "            }\n",
       "            code += lines[i].replace(call_replacer, \".\"+dest+\"($1\"+strargs+\")\")\n",
       "            lines[i] = code;\n",
       "        }\n",
       "    }\n",
       "    cell.set_text(code)\n",
       "}\n",
       "\n",
       "function colomoto_upload(Jupyter, ssid, input, py_callback_name, orig, dest) {\n",
       "\n",
       "    function callback(out_data) {\n",
       "        var cell_element = $(\"#\"+ssid).parents('.cell');\n",
       "        var cell_idx = Jupyter.notebook.get_cell_elements().index(cell_element);\n",
       "        var cell = Jupyter.notebook.get_cell(cell_idx);\n",
       "\n",
       "        var filename = out_data.content.text;\n",
       "\n",
       "        var code = cell.get_text();\n",
       "        code = code.replace(new RegExp(\"\\\\b\" + orig.replace('.', '\\\\.')\n",
       "                    + \"\\\\(\\\\s*((\\\\w+)=[^\\\\)]*)?\\\\)\"),\n",
       "                dest+\"(\\\"\"+filename+\"\\\",$1)\");\n",
       "        code = code.replace('\",)', '\")')\n",
       "        cell.set_text(code);\n",
       "\n",
       "        Jupyter.notebook.select(cell_idx);\n",
       "        Jupyter.notebook.execute_cell_and_select_below();\n",
       "    }\n",
       "\n",
       "    if (! (window.File && window.FileReader && window.FileList && window.Blob)) {\n",
       "        alert(\"Interactive file upload is not supported by your browser.\");\n",
       "        return;\n",
       "    }\n",
       "\n",
       "    input.disabled = true;\n",
       "    input.style.cursor = \"wait\";\n",
       "    input.parentElement.style.cursor = \"wait\";\n",
       "\n",
       "    var f = input.files[0];\n",
       "    var reader = new FileReader();\n",
       "    reader.onload = (function(f) {\n",
       "        return function (e) {\n",
       "            var obj = {\n",
       "                content: e.target.result,\n",
       "                name: f.name\n",
       "            };\n",
       "\n",
       "            //var pycb = py_callback_name+\"(\"+JSON.stringify(obj)+\")\"\n",
       "            // hack/workaround:\n",
       "            // it seems that Jupyter does not like very long lines\n",
       "            // so we split the data in chunks\n",
       "            var chunk_length = 100;\n",
       "            var pycb = \"__colomoto_upload_name = \" + JSON.stringify(obj.name) + \"\\n\";\n",
       "            pycb += \"__colomoto_upload_content = \\\\\\n\";\n",
       "            for (var i = 0; i < obj.content.length; i += chunk_length) {\n",
       "                pycb += \"\\\"\" + obj.content.substr(i, chunk_length)+\"\\\"\\\\\\n\"\n",
       "            }\n",
       "            pycb += \"\\n\"\n",
       "            pycb += py_callback_name+\"({'name':__colomoto_upload_name, 'content': __colomoto_upload_content})\\n\";\n",
       "            pycb += \"del __colomoto_upload_name, __colomoto_upload_content\"\n",
       "\n",
       "            IPython.notebook.kernel.execute(pycb, {iopub: {output: callback}});\n",
       "        };\n",
       "    })(f);\n",
       "    reader.readAsDataURL(f);\n",
       "}\n",
       "\n",
       "function resolve_function(tool_api, funcname) {\n",
       "    if (tool_api.hasOwnProperty(funcname)) {\n",
       "        return tool_api[funcname];\n",
       "    } else {\n",
       "        return window[funcname];\n",
       "    }\n",
       "}\n",
       "\n",
       "function colomoto_extension(Jupyter, ssid, name, menu, toolbar, tool_api) {\n",
       "\n",
       "    function insert_snippet_code(snippet) {\n",
       "        var cell = Jupyter.notebook.get_selected_cell();\n",
       "        Jupyter.notebook.edit_mode();\n",
       "        cell.code_mirror.replaceSelection(snippet, 'around');\n",
       "        //cell.focus_editor();\n",
       "    }\n",
       "\n",
       "    /**\n",
       "        from https://github.com/moble/jupyter_boilerplate/blob/master/main.js\n",
       "    */\n",
       "    function callback_insert_snippet (evt) {\n",
       "        // this (or event.currentTarget, see below) always refers to the DOM\n",
       "        // element the listener was attached to - see\n",
       "        // http://stackoverflow.com/questions/12077859\n",
       "        insert_snippet_code($(evt.currentTarget).data('snippet-code'));\n",
       "    }\n",
       "    function build_menu_element (menu_item_spec, direction) {\n",
       "        // Create the menu item html element\n",
       "        var element = $('<li/>');\n",
       "\n",
       "        if (typeof menu_item_spec == 'string') {\n",
       "            if (menu_item_spec != '---') {\n",
       "                return element.html(menu_item_spec)\n",
       "                        .addClass('ui-state-disabled')\n",
       "                        .attr({\"style\": \"padding:2px .4em\"})\n",
       "                       ;\n",
       "            }\n",
       "            return element.addClass('divider');\n",
       "        }\n",
       "\n",
       "        var a = $('<a/>')\n",
       "            .attr('href', '#')\n",
       "            .html(menu_item_spec.name)\n",
       "            .appendTo(element);\n",
       "        if (menu_item_spec.hasOwnProperty('snippet')) {\n",
       "            var snippet = menu_item_spec.snippet;\n",
       "            if (typeof snippet == 'string' || snippet instanceof String) {\n",
       "                snippet = [snippet];\n",
       "            }\n",
       "            a.attr({\n",
       "                'title' : \"\", // Do not remove this, even though it's empty!\n",
       "                'data-snippet-code' : snippet.join('\\n'),\n",
       "            })\n",
       "            .on('click', callback_insert_snippet)\n",
       "            .addClass('snippet');\n",
       "        }\n",
       "        else if (menu_item_spec.hasOwnProperty('internal-link')) {\n",
       "            a.attr('href', menu_item_spec['internal-link']);\n",
       "        }\n",
       "        else if (menu_item_spec.hasOwnProperty('external-link')) {\n",
       "            a.empty();\n",
       "            a.attr('href', menu_item_spec['external-link']);\n",
       "            a.attr({\n",
       "                'target' : '_blank',\n",
       "                'title' : 'Opens in a new window',\n",
       "            });\n",
       "            $('<i class=\"fa fa-external-link menu-icon pull-right\"/>').appendTo(a);\n",
       "            $('<span/>').html(menu_item_spec.name).appendTo(a);\n",
       "        }\n",
       "\n",
       "        if (menu_item_spec.hasOwnProperty('sub-menu')) {\n",
       "            element\n",
       "                .addClass('dropdown-submenu')\n",
       "                .toggleClass('dropdown-submenu-left', direction === 'left');\n",
       "            var sub_element = $('<ul class=\"dropdown-menu\"/>')\n",
       "                .toggleClass('dropdown-menu-compact', menu_item_spec.overlay === true) // For space-saving menus\n",
       "                .appendTo(element);\n",
       "\n",
       "            var new_direction = (menu_item_spec['sub-menu-direction'] === 'left') ? 'left' : 'right';\n",
       "            for (var j=0; j<menu_item_spec['sub-menu'].length; ++j) {\n",
       "                var sub_menu_item_spec = build_menu_element(menu_item_spec['sub-menu'][j], new_direction);\n",
       "                if(sub_menu_item_spec !== null) {\n",
       "                    sub_menu_item_spec.appendTo(sub_element);\n",
       "                }\n",
       "            }\n",
       "        }\n",
       "\n",
       "        return element;\n",
       "    }\n",
       "\n",
       "    function menu_setup (menu_item_specs, sibling, insert_before_sibling) {\n",
       "        for (var i=0; i<menu_item_specs.length; ++i) {\n",
       "            var menu_item_spec;\n",
       "            if (insert_before_sibling) {\n",
       "                menu_item_spec = menu_item_specs[i];\n",
       "            } else {\n",
       "                menu_item_spec = menu_item_specs[menu_item_specs.length-1-i];\n",
       "            }\n",
       "            var direction = (menu_item_spec['menu-direction'] == 'left') ? 'left' : 'right';\n",
       "            var menu_element = build_menu_element(menu_item_spec, direction);\n",
       "            // We need special properties if this item is in the navbar\n",
       "            if ($(sibling).parent().is('ul.nav.navbar-nav')) {\n",
       "                menu_element\n",
       "                    .addClass('dropdown')\n",
       "                    .removeClass('dropdown-submenu dropdown-submenu-left');\n",
       "                menu_element.children('a')\n",
       "                    .addClass('dropdown-toggle')\n",
       "                    .attr({\n",
       "                        'id': name+'_menu',\n",
       "                        'data-toggle' : 'dropdown',\n",
       "                        'aria-expanded' : 'false'\n",
       "                    });\n",
       "            }\n",
       "\n",
       "            // Insert the menu element into DOM\n",
       "            menu_element[insert_before_sibling ? 'insertBefore': 'insertAfter'](sibling);\n",
       "        }\n",
       "    }\n",
       "    /** end from */\n",
       "\n",
       "\n",
       "    function self_cleanup() {\n",
       "        var cell_element = $(\"script[class='to-be-removed']\").parents('.cell');\n",
       "        var cell_idx = Jupyter.notebook.get_cell_elements().index(cell_element);\n",
       "        var cell = Jupyter.notebook.get_cell(cell_idx);\n",
       "        var to_remove = -1;\n",
       "        for (var i = 0; i < cell.output_area.outputs.length; ++i) {\n",
       "            var oa = cell.output_area.outputs[i];\n",
       "            if (oa.output_type == \"display_data\"\n",
       "                && typeof oa.data[\"text/html\"] != 'undefined'\n",
       "                && oa.data[\"text/html\"].indexOf(' class=\"to-be-removed\"') >= 0) {\n",
       "                to_remove = i;\n",
       "                break;\n",
       "            }\n",
       "        }\n",
       "        if (to_remove == -1) {\n",
       "            console.log(\"cannot find toberemoved\");\n",
       "        } else {\n",
       "            cell.output_area.outputs.splice(to_remove, 1);\n",
       "        }\n",
       "    }\n",
       "\n",
       "    function toolbar_setup(actions) {\n",
       "        var buttons = [];\n",
       "        for (var i = 0; i < actions.length; ++i) {\n",
       "            var setup = actions[i].setup;\n",
       "            if (typeof setup.handler == 'string') {\n",
       "                setup.handler = resolve_function(tool_api, setup.handler);\n",
       "            }\n",
       "            buttons.push(Jupyter.actions.register(actions[i].setup,\n",
       "                actions[i].name, name));\n",
       "        }\n",
       "        $(\"#\"+name+\"-toolbar\").remove();\n",
       "        Jupyter.toolbar.add_buttons_group(buttons, name+\"-toolbar\");\n",
       "    }\n",
       "\n",
       "    function replace_menu_snippets(menu_spec, orig, dest) {\n",
       "        if (menu_spec.hasOwnProperty(\"snippet\")) {\n",
       "            var snippet = menu_spec.snippet;\n",
       "            if (typeof snippet == \"string\" || snippet instanceof String) {\n",
       "                menu_spec[\"snippet\"] = snippet.replace(orig, dest);\n",
       "            } else {\n",
       "                for (var i = 0; i < snippet.length; ++i) {\n",
       "                    menu_spec[\"snippet\"][i] = snippet[i].replace(orig, dest);\n",
       "                }\n",
       "            }\n",
       "        }\n",
       "        if (menu_spec.hasOwnProperty(\"sub-menu\")) {\n",
       "            for (var i = 0; i < menu_spec[\"sub-menu\"].length; ++i) {\n",
       "                replace_menu_snippets(menu_spec[\"sub-menu\"][i], orig, dest);\n",
       "            }\n",
       "        }\n",
       "    }\n",
       "\n",
       "    function load_ipython_extension() {\n",
       "\n",
       "        var mycellelt = $(\"#\"+ssid).parents('.cell');\n",
       "        var myidx = Jupyter.notebook.get_cell_elements().index(mycellelt);\n",
       "        var import_cell = Jupyter.notebook.get_cell(myidx);\n",
       "\n",
       "        var alias = detect_import(import_cell, name);\n",
       "        tool_api.module_alias = alias;\n",
       "        if (alias && alias != name) {\n",
       "            var orig = new RegExp(\"\\\\b\"+name+\"\\\\b\", \"g\");\n",
       "            replace_menu_snippets(menu, orig, alias);\n",
       "        }\n",
       "\n",
       "        if (toolbar) {\n",
       "            toolbar_setup(toolbar);\n",
       "        }\n",
       "\n",
       "        $(\"#\"+name+\"_menu\").parent().remove();\n",
       "        if (menu) {\n",
       "            menu_setup([menu], $(\"#help_menu\").parent(), true);\n",
       "        }\n",
       "\n",
       "        if (tool_api.hasOwnProperty(\"post_install_callback\")) {\n",
       "            tool_api.post_install_callback();\n",
       "        }\n",
       "\n",
       "        setTimeout(self_cleanup, 5000);\n",
       "    };\n",
       "\n",
       "    load_ipython_extension();\n",
       "}\n",
       "\n",
       "function resolve_toolbar_handlers(tool_api, toolbar_spec) {\n",
       "    for (var i = 0; i < toolbar_spec.length; ++i) {\n",
       "        func = resolve_function(tool_api, toolbar_spec[i][\"setup\"][\"handler\"]);\n",
       "        toolbar_spec[i][\"setup\"][\"handler\"] = func;\n",
       "    }\n",
       "    return toolbar_spec\n",
       "}\n",
       "\n",
       "\n",
       "    var minibn_jsapi = {  };\n",
       "    colomoto_extension(Jupyter, \"colomoto-setup-8872030\", \"minibn\", null, null, minibn_jsapi);\n",
       "     }</script>"
      ],
      "text/plain": [
       "<IPython.core.display.HTML object>"
      ]
     },
     "metadata": {},
     "output_type": "display_data"
    },
    {
     "data": {
      "text/html": [
       "<script type=\"text/javascript\" id=\"colomoto-setup-6116724\" class=\"to-be-removed\">\n",
       "        if (typeof Jupyter != 'undefined') {\n",
       "            \n",
       "    var mymodule_jsapi = {  };\n",
       "    colomoto_extension(Jupyter, \"colomoto-setup-6116724\", \"mymodule\", {\"name\": \"MaBoSS\", \"sub-menu\": [{\"name\": \"Load MaBoSS file\", \"snippet\": [\"masim = maboss.load(\\\"filename.bnd\\\", \\\"filename.cfg\\\")\"]}, {\"name\": \"Network\", \"sub-menu\": [{\"name\": \"Set istate\", \"snippet\": [\"maboss.wg_set_istate(masim)\"]}, {\"name\": \"Get initial state\", \"snippet\": [\"masim.get_initial_state()\"]}]}, {\"name\": \"Simulation\", \"sub-menu\": [{\"name\": \"Create mutant\", \"snippet\": [\"maboss.wg_make_mutant(masim)\"]}, {\"name\": \"Run\", \"snippet\": [\"simres = masim.run()\"]}, {\"name\": \"Set initial states\", \"snippet\": [\"masim.network.set_istate([\\\"mygenelist\\\"],{})\"]}, {\"name\": \"Set output\", \"snippet\": [\"maboss.wg_set_output(masim)\"]}]}, {\"name\": \"Results\", \"sub-menu\": [{\"name\": \"Save results\", \"snippet\": [\"simres.save(\\\"filename\\\")\"]}, {\"name\": \"Plot piechart\", \"snippet\": [\"simres.plot_piechart()\"]}, {\"name\": \"Plot trajectory\", \"snippet\": [\"simres.plot_trajectory()\"]}]}, {\"name\": \"Conversion\", \"sub-menu\": [{\"name\": \"Convert to biolqm\", \"snippet\": [\"biolqm_model = maboss.to_biolqm(masim)\"]}, {\"name\": \"Convert to minibn\", \"snippet\": [\"minibn_model = maboss.to_minibn(masim)\"]}]}, \"---\", {\"name\": \"Documentation\", \"external-link\": \"http://pymaboss.readthedocs.io\"}]}, null, mymodule_jsapi);\n",
       "     }</script><style type=\"text/css\">\n",
       "    #mymodule_menu {\n",
       "        color: green;\n",
       "        background-color: white;\n",
       "    }\n",
       "    </style>"
      ],
      "text/plain": [
       "<IPython.core.display.HTML object>"
      ]
     },
     "metadata": {},
     "output_type": "display_data"
    }
   ],
   "source": [
    "import maboss"
   ]
  },
  {
   "cell_type": "markdown",
   "id": "26ed680b-b501-4379-b73d-532b7ceea29a",
   "metadata": {},
   "source": [
    "## Model of Tumor invasion (Cohen et al.)"
   ]
  },
  {
   "cell_type": "markdown",
   "id": "5e52be22-33e8-4476-bcf4-fc8043e56e8b",
   "metadata": {},
   "source": [
    "#### Loading the model"
   ]
  },
  {
   "cell_type": "code",
   "execution_count": 2,
   "id": "9ce678d8-fd3a-493a-8c9f-104ae3094783",
   "metadata": {},
   "outputs": [],
   "source": [
    "model_invasion = maboss.load(\"models/metastasis.bnd\", \"models/metastasis.cfg\")"
   ]
  },
  {
   "cell_type": "markdown",
   "id": "f2c5595b-37cd-4b05-8325-3408caf13d5d",
   "metadata": {},
   "source": [
    "#### Running the simulation"
   ]
  },
  {
   "cell_type": "code",
   "execution_count": 3,
   "id": "9f09a129-99be-49ce-a5ab-db4319869d32",
   "metadata": {},
   "outputs": [],
   "source": [
    "res_invasion = model_invasion.run()"
   ]
  },
  {
   "cell_type": "markdown",
   "id": "6dd0b379-5951-446c-b31b-0c4fe8f7a064",
   "metadata": {},
   "source": [
    "#### Visualising the steady states distribution"
   ]
  },
  {
   "cell_type": "code",
   "execution_count": 4,
   "id": "34226f30-a05e-4171-afd6-ff0cdbdbb1c7",
   "metadata": {},
   "outputs": [
    {
     "data": {
      "image/png": "[encoded data removed]",
      "text/plain": [
       "<Figure size 432x288 with 1 Axes>"
      ]
     },
     "metadata": {},
     "output_type": "display_data"
    }
   ],
   "source": [
    "res_invasion.plot_piechart()"
   ]
  },
  {
   "cell_type": "markdown",
   "id": "6bda7dd0-14fc-4882-96fa-4f0d0d4dfd3a",
   "metadata": {},
   "source": [
    "#### Visualising the trajectory of steady states distribution"
   ]
  },
  {
   "cell_type": "code",
   "execution_count": 5,
   "id": "c79fb0e4-92a5-4b88-9f25-3423cb6daee6",
   "metadata": {},
   "outputs": [
    {
     "data": {
      "image/png": "[encoded data removed]",
      "text/plain": [
       "<Figure size 432x288 with 1 Axes>"
      ]
     },
     "metadata": {
      "needs_background": "light"
     },
     "output_type": "display_data"
    }
   ],
   "source": [
    "res_invasion.plot_trajectory()"
   ]
  },
  {
   "cell_type": "markdown",
   "id": "a14bb97a-4fc2-4adf-ad12-179df6a75d44",
   "metadata": {},
   "source": [
    "#### Visualizing the trajectory of individual nodes"
   ]
  },
  {
   "cell_type": "code",
   "execution_count": 6,
   "id": "c6ae3fd6-ec77-4039-a2de-9d6f3efbb85d",
   "metadata": {},
   "outputs": [
    {
     "data": {
      "image/png": "[encoded data removed]",
      "text/plain": [
       "<Figure size 432x288 with 1 Axes>"
      ]
     },
     "metadata": {
      "needs_background": "light"
     },
     "output_type": "display_data"
    }
   ],
   "source": [
    "res_invasion.plot_node_trajectory()"
   ]
  },
  {
   "cell_type": "markdown",
   "id": "1cec48db-e17f-4e38-b997-5eb3314ec139",
   "metadata": {},
   "source": [
    "#### Getting the trajectories as a pandas dataframe"
   ]
  },
  {
   "cell_type": "code",
   "execution_count": 7,
   "id": "ac504e4e-1f1d-4b6d-975f-5156701f4f76",
   "metadata": {},
   "outputs": [
    {
     "data": {
      "text/html": [
       "<div>\n",
       "<style scoped>\n",
       "    .dataframe tbody tr th:only-of-type {\n",
       "        vertical-align: middle;\n",
       "    }\n",
       "\n",
       "    .dataframe tbody tr th {\n",
       "        vertical-align: top;\n",
       "    }\n",
       "\n",
       "    .dataframe thead th {\n",
       "        text-align: right;\n",
       "    }\n",
       "</style>\n",
       "<table border=\"1\" class=\"dataframe\">\n",
       "  <thead>\n",
       "    <tr style=\"text-align: right;\">\n",
       "      <th></th>\n",
       "      <th>&lt;nil&gt;</th>\n",
       "      <th>Apoptosis</th>\n",
       "      <th>Apoptosis -- CellCycleArrest</th>\n",
       "      <th>CellCycleArrest</th>\n",
       "      <th>Invasion</th>\n",
       "      <th>Invasion -- Apoptosis</th>\n",
       "      <th>Invasion -- Apoptosis -- CellCycleArrest</th>\n",
       "      <th>Invasion -- CellCycleArrest</th>\n",
       "    </tr>\n",
       "  </thead>\n",
       "  <tbody>\n",
       "    <tr>\n",
       "      <th>0.0</th>\n",
       "      <td>0.927211</td>\n",
       "      <td>0.036734</td>\n",
       "      <td>0.002495</td>\n",
       "      <td>0.008816</td>\n",
       "      <td>0.023224</td>\n",
       "      <td>0.001194</td>\n",
       "      <td>0.000086</td>\n",
       "      <td>0.000240</td>\n",
       "    </tr>\n",
       "    <tr>\n",
       "      <th>0.5</th>\n",
       "      <td>0.682001</td>\n",
       "      <td>0.124939</td>\n",
       "      <td>0.035559</td>\n",
       "      <td>0.056035</td>\n",
       "      <td>0.081564</td>\n",
       "      <td>0.012353</td>\n",
       "      <td>0.002428</td>\n",
       "      <td>0.005121</td>\n",
       "    </tr>\n",
       "    <tr>\n",
       "      <th>1.0</th>\n",
       "      <td>0.485872</td>\n",
       "      <td>0.146506</td>\n",
       "      <td>0.109373</td>\n",
       "      <td>0.103834</td>\n",
       "      <td>0.104372</td>\n",
       "      <td>0.022607</td>\n",
       "      <td>0.010071</td>\n",
       "      <td>0.017365</td>\n",
       "    </tr>\n",
       "    <tr>\n",
       "      <th>1.5</th>\n",
       "      <td>0.378143</td>\n",
       "      <td>0.124966</td>\n",
       "      <td>0.191455</td>\n",
       "      <td>0.133481</td>\n",
       "      <td>0.100016</td>\n",
       "      <td>0.022513</td>\n",
       "      <td>0.018048</td>\n",
       "      <td>0.031378</td>\n",
       "    </tr>\n",
       "    <tr>\n",
       "      <th>2.0</th>\n",
       "      <td>0.318932</td>\n",
       "      <td>0.093268</td>\n",
       "      <td>0.259885</td>\n",
       "      <td>0.154564</td>\n",
       "      <td>0.090280</td>\n",
       "      <td>0.016553</td>\n",
       "      <td>0.021432</td>\n",
       "      <td>0.045086</td>\n",
       "    </tr>\n",
       "    <tr>\n",
       "      <th>...</th>\n",
       "      <td>...</td>\n",
       "      <td>...</td>\n",
       "      <td>...</td>\n",
       "      <td>...</td>\n",
       "      <td>...</td>\n",
       "      <td>...</td>\n",
       "      <td>...</td>\n",
       "      <td>...</td>\n",
       "    </tr>\n",
       "    <tr>\n",
       "      <th>37.0</th>\n",
       "      <td>0.202716</td>\n",
       "      <td>0.000000</td>\n",
       "      <td>0.434370</td>\n",
       "      <td>0.061996</td>\n",
       "      <td>0.000007</td>\n",
       "      <td>0.000000</td>\n",
       "      <td>0.000000</td>\n",
       "      <td>0.300912</td>\n",
       "    </tr>\n",
       "    <tr>\n",
       "      <th>37.5</th>\n",
       "      <td>0.202720</td>\n",
       "      <td>0.000000</td>\n",
       "      <td>0.434370</td>\n",
       "      <td>0.061987</td>\n",
       "      <td>0.000010</td>\n",
       "      <td>0.000000</td>\n",
       "      <td>0.000000</td>\n",
       "      <td>0.300913</td>\n",
       "    </tr>\n",
       "    <tr>\n",
       "      <th>38.0</th>\n",
       "      <td>0.202716</td>\n",
       "      <td>0.000000</td>\n",
       "      <td>0.434370</td>\n",
       "      <td>0.061990</td>\n",
       "      <td>0.000004</td>\n",
       "      <td>0.000000</td>\n",
       "      <td>0.000000</td>\n",
       "      <td>0.300920</td>\n",
       "    </tr>\n",
       "    <tr>\n",
       "      <th>38.5</th>\n",
       "      <td>0.202714</td>\n",
       "      <td>0.000000</td>\n",
       "      <td>0.434370</td>\n",
       "      <td>0.061996</td>\n",
       "      <td>0.000000</td>\n",
       "      <td>0.000000</td>\n",
       "      <td>0.000000</td>\n",
       "      <td>0.300920</td>\n",
       "    </tr>\n",
       "    <tr>\n",
       "      <th>39.0</th>\n",
       "      <td>0.202719</td>\n",
       "      <td>0.000000</td>\n",
       "      <td>0.434370</td>\n",
       "      <td>0.061991</td>\n",
       "      <td>0.000000</td>\n",
       "      <td>0.000000</td>\n",
       "      <td>0.000000</td>\n",
       "      <td>0.300920</td>\n",
       "    </tr>\n",
       "  </tbody>\n",
       "</table>\n",
       "<p>79 rows × 8 columns</p>\n",
       "</div>"
      ],
      "text/plain": [
       "         <nil>  Apoptosis  Apoptosis -- CellCycleArrest  CellCycleArrest  \\\n",
       "0.0   0.927211   0.036734                      0.002495         0.008816   \n",
       "0.5   0.682001   0.124939                      0.035559         0.056035   \n",
       "1.0   0.485872   0.146506                      0.109373         0.103834   \n",
       "1.5   0.378143   0.124966                      0.191455         0.133481   \n",
       "2.0   0.318932   0.093268                      0.259885         0.154564   \n",
       "...        ...        ...                           ...              ...   \n",
       "37.0  0.202716   0.000000                      0.434370         0.061996   \n",
       "37.5  0.202720   0.000000                      0.434370         0.061987   \n",
       "38.0  0.202716   0.000000                      0.434370         0.061990   \n",
       "38.5  0.202714   0.000000                      0.434370         0.061996   \n",
       "39.0  0.202719   0.000000                      0.434370         0.061991   \n",
       "\n",
       "      Invasion  Invasion -- Apoptosis  \\\n",
       "0.0   0.023224               0.001194   \n",
       "0.5   0.081564               0.012353   \n",
       "1.0   0.104372               0.022607   \n",
       "1.5   0.100016               0.022513   \n",
       "2.0   0.090280               0.016553   \n",
       "...        ...                    ...   \n",
       "37.0  0.000007               0.000000   \n",
       "37.5  0.000010               0.000000   \n",
       "38.0  0.000004               0.000000   \n",
       "38.5  0.000000               0.000000   \n",
       "39.0  0.000000               0.000000   \n",
       "\n",
       "      Invasion -- Apoptosis -- CellCycleArrest  Invasion -- CellCycleArrest  \n",
       "0.0                                   0.000086                     0.000240  \n",
       "0.5                                   0.002428                     0.005121  \n",
       "1.0                                   0.010071                     0.017365  \n",
       "1.5                                   0.018048                     0.031378  \n",
       "2.0                                   0.021432                     0.045086  \n",
       "...                                        ...                          ...  \n",
       "37.0                                  0.000000                     0.300912  \n",
       "37.5                                  0.000000                     0.300913  \n",
       "38.0                                  0.000000                     0.300920  \n",
       "38.5                                  0.000000                     0.300920  \n",
       "39.0                                  0.000000                     0.300920  \n",
       "\n",
       "[79 rows x 8 columns]"
      ]
     },
     "execution_count": 7,
     "metadata": {},
     "output_type": "execute_result"
    }
   ],
   "source": [
    "table = res_invasion.get_states_probtraj()\n",
    "table"
   ]
  },
  {
   "cell_type": "code",
   "execution_count": 8,
   "id": "f3c38230-93d4-4558-9f68-cda5bda0926c",
   "metadata": {},
   "outputs": [],
   "source": [
    "n_ap_n_inv = table[\"<nil>\"]+table[\"CellCycleArrest\"]"
   ]
  },
  {
   "cell_type": "code",
   "execution_count": 9,
   "id": "abc29b5f-a78d-4043-a034-e10f8e7aac72",
   "metadata": {},
   "outputs": [
    {
     "data": {
      "text/plain": [
       "<AxesSubplot:>"
      ]
     },
     "execution_count": 9,
     "metadata": {},
     "output_type": "execute_result"
    },
    {
     "data": {
      "image/png": "[encoded data removed]",
      "text/plain": [
       "<Figure size 432x288 with 1 Axes>"
      ]
     },
     "metadata": {
      "needs_background": "light"
     },
     "output_type": "display_data"
    }
   ],
   "source": [
    "n_ap_n_inv[n_ap_n_inv.index <= 10].plot()"
   ]
  },
  {
   "cell_type": "code",
   "execution_count": 10,
   "id": "f5bbc183-4343-46e2-a794-7a7f73d15270",
   "metadata": {},
   "outputs": [],
   "source": [
    "no_ecm_no_dd = model_invasion.copy()"
   ]
  },
  {
   "cell_type": "code",
   "execution_count": 11,
   "id": "47626af4-831f-46a4-b171-401fd623d76a",
   "metadata": {},
   "outputs": [
    {
     "name": "stdout",
     "output_type": "stream",
     "text": [
      "Help on method set_istate in module maboss.network:\n",
      "\n",
      "set_istate(nodes, probDict, warnings=True) method of maboss.network.Network instance\n",
      "    Change the inital states probability of one or several nodes.\n",
      "    \n",
      "    :param nodes: the node(s) whose initial states are to be modified\n",
      "    :type nodes: a :py:class:`Node` or a list or tuple of :py:class:`Node`\n",
      "    :param dict probDict: the probability distribution of intial states\n",
      "    \n",
      "    If nodes is a Node object or a singleton, probDict must be a probability\n",
      "    distribution over {0, 1}, it can be expressed by a list [P(0), P(1)] or a\n",
      "    dictionary: {0: P(0), 1: P(1)}.\n",
      "    \n",
      "    If nodes is a tuple or a list of several Node objects, the Node object \n",
      "    will be bound, and probDict must be a probability distribution over a part\n",
      "    of {0, 1}^n. It must be expressed in the form of a dictionary\n",
      "    {(b1, ..., bn): P(b1,..,bn),...}. States that do not appear in the \n",
      "    dictionary will be considered to be impossible. If a state has a 0 probability of\n",
      "    being an intial state but might be reached later, it must explicitly appear \n",
      "    as a key in probDict.\n",
      "    \n",
      "    **Example**\n",
      "    \n",
      "    >>> my_network.set_istate('node1', [0.3, 0.7]) # node1 will have a probability of 0.7 of being up\n",
      "    >>> my_network.set_istate(['node1', 'node2'], {(0, 0): 0.4, (1, 0): 0.6, (0, 1): 0}) # node1 and node2 can never be both up because (1, 1) is not in the dictionary\n",
      "\n"
     ]
    }
   ],
   "source": [
    "help(no_ecm_no_dd.network.set_istate)"
   ]
  },
  {
   "cell_type": "code",
   "execution_count": 12,
   "id": "c88cbe71-7410-4ce1-9743-e4f20743eb2e",
   "metadata": {},
   "outputs": [],
   "source": [
    "no_ecm_no_dd.network.set_istate('ECMicroenv', [1, 0])\n",
    "no_ecm_no_dd.network.set_istate('DNAdamage', [1, 0])"
   ]
  },
  {
   "cell_type": "code",
   "execution_count": 13,
   "id": "e4dd6676-d926-450e-8fc4-becb68d4d247",
   "metadata": {},
   "outputs": [],
   "source": [
    "res_no_ecm_no_dd = no_ecm_no_dd.run()"
   ]
  },
  {
   "cell_type": "code",
   "execution_count": 14,
   "id": "fbe884e2-dac9-4150-9fd0-859099bf873c",
   "metadata": {},
   "outputs": [
    {
     "data": {
      "image/png": "[encoded data removed]",
      "text/plain": [
       "<Figure size 432x288 with 1 Axes>"
      ]
     },
     "metadata": {},
     "output_type": "display_data"
    }
   ],
   "source": [
    "res_no_ecm_no_dd.plot_piechart()"
   ]
  },
  {
   "cell_type": "code",
   "execution_count": 15,
   "id": "b8eb0a8d-5ddf-4bfb-b098-4be40e58cd78",
   "metadata": {},
   "outputs": [],
   "source": [
    "ecm_no_dd = model_invasion.copy()"
   ]
  },
  {
   "cell_type": "code",
   "execution_count": 16,
   "id": "fb30db9e-179a-4a28-bec2-08ed0ea74a92",
   "metadata": {},
   "outputs": [],
   "source": [
    "ecm_no_dd.network.set_istate('ECMicroenv', [0, 1])\n",
    "ecm_no_dd.network.set_istate('DNAdamage', [1, 0])"
   ]
  },
  {
   "cell_type": "code",
   "execution_count": 17,
   "id": "25c23869-548f-4f2e-9a2e-9c4533435963",
   "metadata": {},
   "outputs": [],
   "source": [
    "res_ecm_no_dd = ecm_no_dd.run()"
   ]
  },
  {
   "cell_type": "code",
   "execution_count": 18,
   "id": "d5f90dec-9ffc-4604-8a04-04bd8a546029",
   "metadata": {},
   "outputs": [
    {
     "data": {
      "image/png": "[encoded data removed]",
      "text/plain": [
       "<Figure size 432x288 with 1 Axes>"
      ]
     },
     "metadata": {},
     "output_type": "display_data"
    }
   ],
   "source": [
    "res_ecm_no_dd.plot_piechart()"
   ]
  },
  {
   "cell_type": "code",
   "execution_count": 19,
   "id": "959b5d83-58ab-482e-8128-c61e52cb5328",
   "metadata": {},
   "outputs": [],
   "source": [
    "ecm_dd = model_invasion.copy()"
   ]
  },
  {
   "cell_type": "code",
   "execution_count": 20,
   "id": "1ba76466-5324-4b2b-89a2-4cd50988b08e",
   "metadata": {},
   "outputs": [],
   "source": [
    "ecm_dd.network.set_istate('ECMicroenv', [0, 1])\n",
    "ecm_dd.network.set_istate('DNAdamage', [0, 1])"
   ]
  },
  {
   "cell_type": "code",
   "execution_count": 21,
   "id": "91e97b69-e26a-4c5b-a6fe-75efa5f61219",
   "metadata": {},
   "outputs": [],
   "source": [
    "res_ecm_dd = ecm_dd.run()"
   ]
  },
  {
   "cell_type": "code",
   "execution_count": 22,
   "id": "d3d48ab4-d51c-4b80-a38b-ded6e2f0ccf0",
   "metadata": {},
   "outputs": [
    {
     "data": {
      "image/png": "[encoded data removed]",
      "text/plain": [
       "<Figure size 432x288 with 1 Axes>"
      ]
     },
     "metadata": {},
     "output_type": "display_data"
    }
   ],
   "source": [
    "res_ecm_dd.plot_piechart()"
   ]
  },
  {
   "cell_type": "code",
   "execution_count": 23,
   "id": "4108998c-4949-4166-8cf4-269e0b01c287",
   "metadata": {},
   "outputs": [],
   "source": [
    "mutant_invasion = model_invasion.copy()"
   ]
  },
  {
   "cell_type": "code",
   "execution_count": 24,
   "id": "d7cdd8a2-b078-4dd1-a9d4-ab5dbfbb61b6",
   "metadata": {},
   "outputs": [
    {
     "name": "stdout",
     "output_type": "stream",
     "text": [
      "Help on method mutate in module maboss.simulation:\n",
      "\n",
      "mutate(node, state) method of maboss.simulation.Simulation instance\n",
      "    Trigger or untrigger mutation for a node.\n",
      "    \n",
      "    :param node: The :py:class:`Node` to be modified\n",
      "    :type node: :py:class:`Node`\n",
      "    :param str State:\n",
      "    \n",
      "        * ``'ON'`` (always up)\n",
      "        * ``'OFF'`` (always down)\n",
      "        * ``'WT'`` (mutable but with normal behaviour)\n",
      "    \n",
      "    \n",
      "    The node will appear as a mutable node in the bnd file.\n",
      "    This means that its rate will be of the form:\n",
      "    \n",
      "    ``rate_up = $LowNode ? 0 :($HighNode ? 1: (@logic ? rt_up : 0))``\n",
      "    \n",
      "    If the node is already mutable, this method will simply set $HighNode\n",
      "    and $LowNode accordingly to the desired mutation.\n",
      "\n"
     ]
    }
   ],
   "source": [
    "help(mutant_invasion.mutate)"
   ]
  },
  {
   "cell_type": "code",
   "execution_count": 25,
   "id": "13358d61-e30b-45bd-8cbc-d40e9ce05e49",
   "metadata": {},
   "outputs": [
    {
     "data": {
      "text/plain": [
       "odict_keys(['ECMicroenv', 'DNAdamage', 'Metastasis', 'Migration', 'Invasion', 'EMT', 'Apoptosis', 'CellCycleArrest', 'GF', 'TGFbeta', 'p21', 'CDH1', 'CDH2', 'VIM', 'TWIST1', 'SNAI1', 'SNAI2', 'ZEB1', 'ZEB2', 'AKT1', 'DKK1', 'CTNNB1', 'NICD', 'p63', 'p53', 'p73', 'miR200', 'miR203', 'miR34', 'AKT2', 'ERK', 'SMAD'])"
      ]
     },
     "execution_count": 25,
     "metadata": {},
     "output_type": "execute_result"
    }
   ],
   "source": [
    "mutant_invasion.network.keys()"
   ]
  },
  {
   "cell_type": "code",
   "execution_count": 26,
   "id": "77def7a4-d8a6-4f16-a6ff-54c3945ee1e6",
   "metadata": {},
   "outputs": [],
   "source": [
    "mutant_invasion.mutate('NICD', 'ON')\n",
    "mutant_invasion.mutate('p53', 'OFF')"
   ]
  },
  {
   "cell_type": "code",
   "execution_count": 27,
   "id": "c0643149-2e44-493c-a906-0440988c4578",
   "metadata": {},
   "outputs": [],
   "source": [
    "res_mutant_invasion = mutant_invasion.run()"
   ]
  },
  {
   "cell_type": "code",
   "execution_count": 28,
   "id": "04d2e8b0-441d-4e46-a4ba-69f3cf247e0f",
   "metadata": {},
   "outputs": [
    {
     "data": {
      "image/png": "[encoded data removed]",
      "text/plain": [
       "<Figure size 432x288 with 1 Axes>"
      ]
     },
     "metadata": {},
     "output_type": "display_data"
    }
   ],
   "source": [
    "res_mutant_invasion.plot_piechart()"
   ]
  },
  {
   "cell_type": "code",
   "execution_count": null,
   "id": "c2f04621-a68d-494e-86f8-87711e718613",
   "metadata": {},
   "outputs": [],
   "source": []
  },
  {
   "cell_type": "code",
   "execution_count": null,
   "id": "e5369206-b3ef-4e9d-90fb-21b691292bf5",
   "metadata": {},
   "outputs": [],
   "source": []
  },
  {
   "cell_type": "code",
   "execution_count": 29,
   "id": "73ecc55a-7a14-4446-b9fc-bd59ca2c4d0c",
   "metadata": {},
   "outputs": [],
   "source": [
    "model_prostate = maboss.load(\"models/Montagud2022_Prostate_Cancer.bnd\", \"models/Montagud2022_Prostate_Cancer.cfg\")"
   ]
  },
  {
   "cell_type": "code",
   "execution_count": 30,
   "id": "393048b0-c2ee-47be-a640-f98e88f5f817",
   "metadata": {},
   "outputs": [],
   "source": [
    "res_prostate = model_prostate.run()"
   ]
  },
  {
   "cell_type": "code",
   "execution_count": 31,
   "id": "7c92d148-de54-4624-a92d-ef9371609209",
   "metadata": {},
   "outputs": [
    {
     "data": {
      "image/png": "[encoded data removed]",
      "text/plain": [
       "<Figure size 432x288 with 1 Axes>"
      ]
     },
     "metadata": {
      "needs_background": "light"
     },
     "output_type": "display_data"
    }
   ],
   "source": [
    "res_prostate.plot_trajectory()"
   ]
  },
  {
   "cell_type": "code",
   "execution_count": 32,
   "id": "05981c00-8278-430c-bc9c-5a1aa71f85ca",
   "metadata": {},
   "outputs": [
    {
     "data": {
      "text/plain": [
       "odict_keys(['Acidosis', 'AKT', 'AMPK', 'AMP_ATP', 'Androgen', 'APAF1', 'Apoptosis', 'AR', 'AR_ERG', 'ATM', 'ATR', 'AXIN1', 'BAD', 'Bak', 'BAX', 'BCL2', 'Bcl_XL', 'beta_catenin', 'BIRC5', 'BMP2', 'BRCA1', 'BRCA2', 'Carcinogen', 'Caspase3', 'Caspase8', 'Caspase9', 'CDH2', 'cFLAR', 'CHK1_2', 'COX4I2', 'CyclinB', 'CyclinD', 'CytoC', 'DAXX', 'DNA_Damage', 'DNA_Repair', 'Dsh', 'E2F1', 'eEF2', 'eEF2K', 'EGF', 'EGFR', 'EMT', 'EP300', 'ERG', 'ERK', 'ETS1', 'ETV1', 'EZH2', 'E_cadherin', 'FADD', 'FGF', 'FGFR3', 'FOS', 'FOXA1', 'FOXO', 'FRS2', 'fused_event', 'GADD45', 'GLI', 'GLUT1', 'GSH', 'GSK3', 'HIF1', 'HSPs', 'Hypoxia', 'IDH1', 'IKK', 'Invasion', 'JNK', 'JUN', 'Lactic_acid', 'LDHA', 'MAP3K1_3', 'MDM2', 'MED12', 'MEK1_2', 'Metastasis', 'Migration', 'mTORC1', 'mTORC2', 'MXI1', 'MYC', 'MYC_MAX', 'NCOA3', 'NCOR1', 'NCOR2', 'NF1', 'NF_kB', 'NKX3_1', 'Nutrients', 'p14ARF', 'p15', 'p21', 'p38', 'p53', 'p70S6kab', 'p90RSK', 'PDK1', 'PHDs', 'PI3K', 'PIP3', 'PKC', 'Proliferation', 'PTCH1', 'PTEN', 'RAF', 'RAGS', 'RAS', 'RB1', 'Rheb', 'ROS', 'RTK', 'RUNX2', 'SHH', 'Slug', 'SMAD', 'SMO', 'Snail', 'SPOP', 'TAK1', 'TCF', 'TERT', 'TGFb', 'TGFBR', 'TNFalpha', 'TSC1_2', 'TWIST1', 'VEGF', 'VHL', 'WNT', 'YWHAZ', 'ZBTB17'])"
      ]
     },
     "execution_count": 32,
     "metadata": {},
     "output_type": "execute_result"
    }
   ],
   "source": [
    "model_prostate.network.keys()"
   ]
  },
  {
   "cell_type": "markdown",
   "id": "81017947-74a6-4a9f-97dc-d58b4161aad8",
   "metadata": {},
   "source": [
    "These healthy cells mostly exhibit quiescence (neither proliferation nor apoptosis) in the absence of any input (Figure 3A)"
   ]
  },
  {
   "cell_type": "code",
   "execution_count": 33,
   "id": "b581a7eb-15aa-4c2e-8514-483daa23799a",
   "metadata": {},
   "outputs": [],
   "source": [
    "for node in model_prostate.network.keys():\n",
    "    model_prostate.network.set_istate(node, [1, 0])"
   ]
  },
  {
   "cell_type": "code",
   "execution_count": 34,
   "id": "26c14d1b-92bc-432e-b94c-4833d4abb1a1",
   "metadata": {},
   "outputs": [
    {
     "data": {
      "image/png": "[encoded data removed]",
      "text/plain": [
       "<Figure size 432x288 with 1 Axes>"
      ]
     },
     "metadata": {},
     "output_type": "display_data"
    }
   ],
   "source": [
    "res_prostate_zero = model_prostate.run()\n",
    "res_prostate_zero.plot_piechart()"
   ]
  },
  {
   "cell_type": "markdown",
   "id": "e79f3e60-66cd-419e-8724-a0f91e139598",
   "metadata": {},
   "source": [
    "When Nutrients and growth factors (EGF or FGF) are present, Proliferation is activated (Figure 3B)."
   ]
  },
  {
   "cell_type": "code",
   "execution_count": 35,
   "id": "8deddccc-ea7b-439f-ac29-0d12f09098b5",
   "metadata": {},
   "outputs": [],
   "source": [
    "prostate_growth = model_prostate.copy()"
   ]
  },
  {
   "cell_type": "code",
   "execution_count": 36,
   "id": "de8169a4-b5c9-476a-85c6-dda8ce883db6",
   "metadata": {},
   "outputs": [],
   "source": [
    "prostate_growth.network.set_istate('EGF', [0, 1])\n",
    "prostate_growth.network.set_istate('Nutrients', [0, 1])"
   ]
  },
  {
   "cell_type": "code",
   "execution_count": 37,
   "id": "88ff8ce8-8f56-49f1-9a8a-4e5f46d72ac6",
   "metadata": {},
   "outputs": [],
   "source": [
    "res_prostate_growth = prostate_growth.run()"
   ]
  },
  {
   "cell_type": "code",
   "execution_count": 38,
   "id": "3f8e18c0-2f70-42de-8388-284ffc03099d",
   "metadata": {},
   "outputs": [
    {
     "data": {
      "image/png": "[encoded data removed]",
      "text/plain": [
       "<Figure size 432x288 with 1 Axes>"
      ]
     },
     "metadata": {},
     "output_type": "display_data"
    }
   ],
   "source": [
    "res_prostate_growth.plot_piechart()"
   ]
  },
  {
   "cell_type": "markdown",
   "id": "6856cbc0-8047-44e1-b3c0-a33a5b0d8fcb",
   "metadata": {},
   "source": [
    "The model was simulated with Carcinogen, Androgen, TNFalpha, Acidosis, and Hypoxia ON."
   ]
  },
  {
   "cell_type": "code",
   "execution_count": 39,
   "id": "25c946c7-a961-4933-befc-b68eff0dc4c8",
   "metadata": {},
   "outputs": [],
   "source": [
    "prostate_death = model_prostate.copy()"
   ]
  },
  {
   "cell_type": "code",
   "execution_count": 40,
   "id": "eadddf11-ca2e-4f7e-9aec-8d585470de5f",
   "metadata": {},
   "outputs": [],
   "source": [
    "prostate_death.network.set_istate('Carcinogen', [0, 1])\n",
    "prostate_death.network.set_istate('Androgen', [0, 1])\n",
    "prostate_death.network.set_istate('TNFalpha', [0, 1])\n",
    "prostate_death.network.set_istate('Acidosis', [0, 1])\n",
    "prostate_death.network.set_istate('Hypoxia', [0, 1])"
   ]
  },
  {
   "cell_type": "code",
   "execution_count": 41,
   "id": "032fdd71-bc7f-419f-80e3-5a6f8da65cdd",
   "metadata": {},
   "outputs": [],
   "source": [
    "res_prostate_death = prostate_death.run()"
   ]
  },
  {
   "cell_type": "code",
   "execution_count": 42,
   "id": "a4b1007b-1bf1-4605-bc24-2362f543a43b",
   "metadata": {},
   "outputs": [
    {
     "data": {
      "image/png": "[encoded data removed]",
      "text/plain": [
       "<Figure size 432x288 with 1 Axes>"
      ]
     },
     "metadata": {},
     "output_type": "display_data"
    }
   ],
   "source": [
    "res_prostate_death.plot_piechart()"
   ]
  },
  {
   "cell_type": "code",
   "execution_count": null,
   "id": "8ea6eeb6-79d4-48eb-a6f0-cb4dfb67a371",
   "metadata": {},
   "outputs": [],
   "source": []
  }
 ],
 "metadata": {
  "kernelspec": {
   "display_name": "Python 3 (ipykernel)",
   "language": "python",
   "name": "python3"
  },
  "language_info": {
   "codemirror_mode": {
    "name": "ipython",
    "version": 3
   },
   "file_extension": ".py",
   "mimetype": "text/x-python",
   "name": "python",
   "nbconvert_exporter": "python",
   "pygments_lexer": "ipython3",
   "version": "3.9.12"
  }
 },
 "nbformat": 4,
 "nbformat_minor": 5
}
